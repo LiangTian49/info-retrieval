{
 "cells": [
  {
   "cell_type": "markdown",
   "metadata": {},
   "source": [
    "## Task 3\n",
    "### *Part D*"
   ]
  },
  {
   "cell_type": "markdown",
   "metadata": {},
   "source": [
    "$$\n",
    "\\begin{align*}\n",
    "& p(x) = \\int_x^\\infty p(x, y)\\; \\mathrm{d}y\\\\\n",
    "& \\Rightarrow p(x) = \\lim_{u\\to\\infty} \\int_x^u p(x, y)\\; \\mathrm{d}y\\\\\n",
    "& \\Rightarrow p(x) = \\lim_{u\\to\\infty} \\int_x^u 2e^{-(x+y)}\\; \\mathrm{d}y\\\\\n",
    "& \\Rightarrow p(x) = 2e^{-x} \\lim_{u\\to\\infty} \\int_x^u e^{-y}\\; \\mathrm{d}y\\\\\n",
    "& \\Rightarrow p(x) = 2e^{-x} \\lim_{u\\to\\infty} \\big[-e^{-y}\\big]_{y=x}^{y=u}\\\\\n",
    "& \\Rightarrow p(x) = 2e^{-x} \\lim_{u\\to\\infty} \\big[-e^{-u}+e^{-x}\\big]\\\\\n",
    "& \\Rightarrow p(x) = 2e^{-x} \\lim_{u\\to\\infty} \\big[0+e^{-x}\\big]\\\\\n",
    "& \\therefore \\,\\; p(x) = 2e^{-2x}\\\\\n",
    "\\end{align*}\n",
    "$$"
   ]
  },
  {
   "cell_type": "markdown",
   "metadata": {},
   "source": [
    "$$\n",
    "\\begin{align*}\n",
    "& p(y) = \\int_0^y p(x, y)\\; \\mathrm{d}x\\\\\n",
    "& \\Rightarrow p(y) = \\int_0^y 2e^{-(x+y)} \\mathrm{d}x\\\\\n",
    "& \\Rightarrow p(y) = 2e^{-y} \\int_0^y e^{-x} \\mathrm{d}x\\\\\n",
    "& \\Rightarrow p(y) = 2e^{-y} \\big[ -e^{-x} \\big]_{x=0}^{x=y}\\\\\n",
    "& \\Rightarrow p(y) = 2e^{-y} \\big[ -e^{-y} + e^0 \\big]\\\\\n",
    "& \\therefore \\,\\; p(y) = 2e^{-y} \\big( 1 - e^{-y} \\big)\\\\\n",
    "\\end{align*}\n",
    "$$"
   ]
  }
 ],
 "metadata": {
  "kernelspec": {
   "display_name": "Python 3",
   "language": "python",
   "name": "python3"
  },
  "language_info": {
   "codemirror_mode": {
    "name": "ipython",
    "version": 3
   },
   "file_extension": ".py",
   "mimetype": "text/x-python",
   "name": "python",
   "nbconvert_exporter": "python",
   "pygments_lexer": "ipython3",
   "version": "3.6.5"
  }
 },
 "nbformat": 4,
 "nbformat_minor": 2
}
