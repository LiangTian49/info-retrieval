{
 "cells": [
  {
   "cell_type": "markdown",
   "metadata": {},
   "source": [
    "# Task 1\n",
    "## 1."
   ]
  },
  {
   "cell_type": "markdown",
   "metadata": {},
   "source": [
    "Fix $p \\ge 0$. Since $X$ is uniformly distributed on $\\mathcal{C}_1$, its probility density function is given by: $ f(x) =\\begin{cases}\n",
    "\\dfrac{1}{\\lambda^p(\\mathcal{C}_1)} & \\quad \\text{for } x\\in \\mathcal{C}_1 \\\\\n",
    "0 & \\quad \\text{otherwise} \\end{cases}$, where $\\lambda^p$ denotes the p-dimensional Lebesgue-measure.\n",
    "\n",
    "Hence, $\\lambda^p(\\mathcal{C}_1)=\\int\\limits_{-\\frac{1}{2}}^{\\frac{1}{2}}\\underbrace{\\dots}_{\\text{p times}}\\int\\limits_{-\\frac{1}{2}}^{\\frac{1}{2}}1dx_1\\dots dx_p= 1$ and therefore: $ f(x) =\\begin{cases}\n",
    "1 & \\quad \\text{for } x\\in \\mathcal{C}_1 \\\\\n",
    "0 & \\quad \\text{otherwise} \\end{cases}$\n",
    "\n",
    "Moreover it is $Pr(X \\in \\mathcal{C}_d)=\\begin{cases} \\dfrac{\\lambda^p(\\mathcal{C}_d)}{\\lambda^p(\\mathcal{C}_1)}\\quad = \\quad \\lambda^p(\\mathcal{C}_d)\n",
    "& \\quad \\text{for } d <1 \\\\\n",
    "1 & \\quad \\text{for } d\\ge 1 \\end{cases}$ \n",
    "\n",
    "So for $Pr(\\mathbf{X}\\in\\mathcal{C}_d) = q$ follows for $q=1$ that $d\\ge 1$\n",
    "\n",
    "Assume now $q<1$. Then we have $Pr(\\mathbf{X}\\in\\mathcal{C}_d)=\\lambda^p(\\mathcal{C}_d)=\\int\\limits_{-\\frac{d}{2}}^{\\frac{d}{2}}\\underbrace{\\dots}_{\\text{p times}}\\int\\limits_{-\\frac{d}{2}}^{\\frac{d}{2}}1dx_1\\dots dx_p= d^p$\n",
    "\n",
    "Finally it follows for $q<1$ that $Pr(\\mathbf{X}\\in\\mathcal{C}_d) = q \\quad \\Leftrightarrow \\quad d=\\sqrt[p]{q}$"
   ]
  },
  {
   "cell_type": "markdown",
   "metadata": {},
   "source": [
    "# Task 2"
   ]
  },
  {
   "cell_type": "code",
   "execution_count": 6,
   "metadata": {},
   "outputs": [
    {
     "data": {
      "text/plain": [
       "<matplotlib.figure.Figure at 0x112a8b978>"
      ]
     },
     "metadata": {},
     "output_type": "display_data"
    }
   ],
   "source": [
    "\n",
    "import numpy as np\n",
    "import matplotlib.pyplot as plt\n",
    "\n",
    "\n",
    "\n",
    "# Sample  n times from uniformly hypercube [-1,1]^d\n",
    "def createSample(n, d):\n",
    "    return np.random.uniform(-1,1, (n,d))\n",
    "\n",
    "#Compute the angle between two arbitrary Vectors vec1 and vec2\n",
    "def angle(vec1, vec2):\n",
    "    cos_vec1vec2 = (np.dot(vec1,vec2)) / (np.linalg.norm(vec1) * np.linalg.norm(vec2))\n",
    "    return np.arccos(cos_vec1vec2)* (360 / (2*np.pi))\n",
    "\n",
    "def avgMinAngle(n,d):\n",
    "    minAngles = []               #Stores the minimum angles of all vectors to all the others\n",
    "    sample=createSample(n,d)\n",
    "    \n",
    "    for i in range(n):\n",
    "        Angles=[]                   #Stores the angles of vector i to all the other vectors j\n",
    "        for j in range(n):\n",
    "            if (i!=j):                #Avoid computing the angle of a vector with regard to itself\n",
    "               Angles=np.append(Angles, angle(sample[i,:],sample[j,:]))\n",
    "        minAngles=np.append(minAngles,min(Angles))\n",
    "     \n",
    "    return np.mean(minAngles)\n",
    "               \n",
    "#Simulation of avgMinAngle for different hypercube dimensions d  \n",
    "def Simulation():\n",
    "    avgMinAngles=[]\n",
    "    for i in range(1,1000):\n",
    "       avgMinAngles =np.append(avgMinAngles, avgMinAngle(100,i) )  \n",
    "       plt.plot(avgMinAngles, label = 'Average Minimum Angle')\n",
    "\n",
    "plt.ylabel('Average Minimum Angle [in deg]')\n",
    "plt.xlabel('dimension')\n",
    "plt.show()"
   ]
  },
  {
   "cell_type": "code",
   "execution_count": null,
   "metadata": {},
   "outputs": [],
   "source": []
  }
 ],
 "metadata": {
  "kernelspec": {
   "display_name": "Python 3",
   "language": "python",
   "name": "python3"
  },
  "language_info": {
   "codemirror_mode": {
    "name": "ipython",
    "version": 3
   },
   "file_extension": ".py",
   "mimetype": "text/x-python",
   "name": "python",
   "nbconvert_exporter": "python",
   "pygments_lexer": "ipython3",
   "version": "3.6.4"
  }
 },
 "nbformat": 4,
 "nbformat_minor": 2
}
