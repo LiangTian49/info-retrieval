{
 "cells": [
  {
   "cell_type": "markdown",
   "metadata": {},
   "source": [
    "# Task 1a"
   ]
  },
  {
   "cell_type": "markdown",
   "metadata": {},
   "source": [
    "\\begin{align*}\n",
    "&s^{t}\\Sigma\\Sigma^{t}s= \\\\\n",
    "&\\begin{pmatrix}\n",
    "s_1 & s_2 & \\dots  & s_p\n",
    "\\end{pmatrix} \n",
    "\\begin{pmatrix}\n",
    "\\sigma_1 & 0 & \\dots & 0 & 0 & \\dots & 0 \\\\ \n",
    "0 & \\sigma2 &  & \\vdots & 0 & \\dots & 0 \\\\ \n",
    "\\vdots &  & \\ddots &  & 0 & \\dots & 0 \\\\ \n",
    "0 & \\dots &  & \\sigma_p & 0 & \\dots & 0\n",
    "\\end{pmatrix} \n",
    "\\begin{pmatrix}\n",
    "\\sigma_1 & 0 & \\dots & 0 \\\\ \n",
    "0 & \\sigma2 &  & \\vdots  \\\\ \n",
    "\\vdots &  & \\ddots    \\\\ \n",
    "0 &  0& \\dots & \\sigma_p &\\\\\n",
    "0& 0 & 0& 0 \\\\\n",
    "\\vdots& \\vdots &\\vdots & \\vdots\\\\\n",
    "0& 0 & 0& 0\n",
    "\\end{pmatrix} \n",
    "\\begin{pmatrix}\n",
    "s_1 \\\\ \n",
    "s_2 \\\\ \n",
    "\\vdots \\\\ \n",
    "s_p\n",
    "\\end{pmatrix} \\\\\n",
    "&= \\sum\\limits_{i=1}^{p}{\\sigma_i}^2{s_i}^2\n",
    "\\end{align*}\t\n",
    "Since  $\\sigma_1\\ge\\dots \\sigma_p>0$ if follows that for $\\Vert s\\Vert=1$\n",
    "\n",
    "\\begin{equation*}\n",
    "\\underset{\\Vert s\\Vert=1}{max} = s^{t}\\Sigma\\Sigma^{t}s = \\underset{\\Vert s\\Vert=1}{max} \\sum\\limits_{i=1}^{p}{\\sigma_i}^2{s_i}^2 = {\\sigma_1}^2\n",
    "\\end{equation*}\n",
    "And the maximum is attained for $s={\\begin{pmatrix}\n",
    "1 & 0 & \\dots  & 0\n",
    "\\end{pmatrix}}^t$ and ${\\begin{pmatrix}\n",
    "-1 & 0 & \\dots  & 0\n",
    "\\end{pmatrix}}^t$.\n",
    "Hence $\\tilde{s}=arg \\; \\underset{\\Vert\\tilde{s}\\Vert=1}{max} \\; s^{t}\\Sigma\\Sigma^{t}s $ implies $ \\tilde{s}\\in \\{ {\\begin{pmatrix}\n",
    "\t\t1, & 0, & \\dots  & 0\n",
    "\\end{pmatrix}}^t , {\\begin{pmatrix}\n",
    "\t\t-1, & 0, & \\dots  & 0\n",
    "\\end{pmatrix}}^t\\}$\n",
    "\n"
   ]
  },
  {
   "cell_type": "markdown",
   "metadata": {},
   "source": [
    "# Task 1b"
   ]
  },
  {
   "cell_type": "markdown",
   "metadata": {},
   "source": [
    "\n",
    "Assume $a \\in \\mathbb{R}^N$ is a linear combination of columns of U. Then there exist an coordinate vector $c \\in \\mathbb{R}^N\n",
    "$ such that $a=Uc$. Using this represenation the norm constrain is not affected, since\n",
    "\\begin{equation*}\n",
    "\\Vert a \\Vert = \\Vert Uc \\Vert=\\sqrt{c^tU^tUc}=\\sqrt{c^tc}=\\Vert c \\Vert\n",
    "\\end{equation*}\n",
    "So $\\Vert a \\Vert = 1$ is simply perserved by ensuring $\\Vert c \\Vert = 1$. Moreover using the SVD of $X$ and the previously mentioned representation of $a$ we get:\n",
    "\\begin{equation*}\n",
    "\\frac{1}{N}a^tXX^ta = \\frac{1}{N}c^t(U^tU)\\Sigma (V^tV)\\Sigma (U^tU)c=\\frac{1}{N}c^t\\Sigma^2 c = \\frac{1}{N}\\sum\\limits_{i=1}^{N}{\\sigma_i}^2{c_i}^2\n",
    "\\end{equation*}\n",
    "\n",
    "Simliar to Part a, $\\sigma_1\\ge\\dots \\sigma_p>0$ and $\\Vert c\\Vert=1$ implies\n",
    "\\begin{equation*}\n",
    "\\underset{\\Vert c\\Vert=1}{max} = \\frac{1}{N}c^{t}\\Sigma\\Sigma^{t}c = \\underset{\\Vert c\\Vert=1}{max} \\frac{1}{N}\\sum\\limits_{i=1}^{N}{\\sigma_i}^2{c_i}^2 = \\frac{1}{N}{\\sigma_1}^2\n",
    "\\end{equation*}\n",
    "and the maximum is attained for $c\\in \\{ {\\begin{pmatrix}\n",
    "\t1, & 0, & \\dots  & 0\n",
    "\t\\end{pmatrix}}^t , {\\begin{pmatrix}\n",
    "\t-1, & 0, & \\dots  & 0\n",
    "\t\\end{pmatrix}}^t\\}$.\n",
    "Therefore\n",
    "\\begin{equation*}\n",
    "\\arg  \\underset{\\Vert c\\Vert=1}{max}  \\frac{1}{N}a^tXX^ta = \\arg  \\underset{\\Vert c\\Vert=1}{max} \\; U\\left(\\frac{1}{N}\\sum\\limits_{i=1}^{N}{\\sigma_i}^2{c_i}^2\\right)= U \\begin{pmatrix}\n",
    "\t\\pm 1, & 0, & \\dots  & 0\n",
    "\t\\end{pmatrix}^t =\\pm u_1\n",
    "\\end{equation*}\n",
    "where $u_1$ denotes the first column of U.\n",
    "\n"
   ]
  },
  {
   "cell_type": "code",
   "execution_count": null,
   "metadata": {},
   "outputs": [],
   "source": []
  }
 ],
 "metadata": {
  "kernelspec": {
   "display_name": "Python 3",
   "language": "python",
   "name": "python3"
  },
  "language_info": {
   "codemirror_mode": {
    "name": "ipython",
    "version": 3
   },
   "file_extension": ".py",
   "mimetype": "text/x-python",
   "name": "python",
   "nbconvert_exporter": "python",
   "pygments_lexer": "ipython3",
   "version": "3.6.4"
  }
 },
 "nbformat": 4,
 "nbformat_minor": 2
}
