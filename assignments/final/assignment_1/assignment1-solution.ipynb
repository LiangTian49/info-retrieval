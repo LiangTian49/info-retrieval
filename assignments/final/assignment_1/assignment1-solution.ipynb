{
 "cells": [
  {
   "cell_type": "markdown",
   "metadata": {},
   "source": [
    "# Information Retrieval in High Dimensional Data\n",
    "## Assignment 1\n",
    "\n",
    "### Group 05\n",
    "\n",
    "| Name  | Matriculation Number  | E-mail  |\n",
    "| :------- | :----------------------- | :--------- |\n",
    "| Akbar, Uzair   | 03697290 | [uzair.akbar@tum.de](mailto:uzair.akbar@tum.de) |\n",
    "| Decker, Thomas | 03694815 | [thomas.decker@tum.de](mailto:thomas.decker@tum.de) |\n",
    "| Hertel, Nico   | 03662493 | [mail@nicohertel.de](mailto:mail@nicohertel.de) |\n",
    "| Liao, Zhenchen | 03700198 | [ge56cun@tum.de](mailto:ge56cun@tum.de) |\n",
    "| Siriya, Seth   | 03707539 | [seth.siriya@tum.de](mailto:seth.siriya@tum.de) |"
   ]
  },
  {
   "cell_type": "markdown",
   "metadata": {},
   "source": [
    "## Curse of Dimensionality\n",
    "### Task 1\n",
    "Let $\\mathbf{C}_d = \\{\\mathbf{x}\\in \\mathbb{R}^p\\mid\\|\\mathbf{x}\\|_\\infty\\leq\\frac{d}{2}\\}$ denote the $p$-dimensional hypercube of edge length $d$, centered at the orign.\n",
    "#### *Part A*\n",
    "Assume $\\mathbf{X}$ to be uniformly distributed in $\\mathbf{C}_1$. Determine $d$ in dependence of $p$ and $q\\in[0, 1]$, such that\n",
    "$$Pr(\\mathbf{X}\\in\\mathbf{C}_d)=q$$\n",
    "holds."
   ]
  },
  {
   "cell_type": "markdown",
   "metadata": {},
   "source": [
    "Fix $p \\ge 0$. Since $X$ is uniformly distributed on $\\mathcal{C}_1$, its probility density function is given by: $ f(x) =\\begin{cases}\n",
    "\\dfrac{1}{\\lambda^p(\\mathcal{C}_1)} & \\quad \\text{for } x\\in \\mathcal{C}_1 \\\\\n",
    "0 & \\quad \\text{otherwise} \\end{cases}$, where $\\lambda^p$ denotes the p-dimensional Lebesgue-measure.\n",
    "\n",
    "Hence, $\\lambda^p(\\mathcal{C}_1)=\\int\\limits_{-\\frac{1}{2}}^{\\frac{1}{2}}\\underbrace{\\dots}_{\\text{p times}}\\int\\limits_{-\\frac{1}{2}}^{\\frac{1}{2}}1dx_1\\dots dx_p= 1$ and therefore: $ f(x) =\\begin{cases}\n",
    "1 & \\quad \\text{for } x\\in \\mathcal{C}_1 \\\\\n",
    "0 & \\quad \\text{otherwise} \\end{cases}$\n",
    "\n",
    "Moreover it is $Pr(X \\in \\mathcal{C}_d)=\\begin{cases} \\dfrac{\\lambda^p(\\mathcal{C}_d)}{\\lambda^p(\\mathcal{C}_1)}\\quad = \\quad \\lambda^p(\\mathcal{C}_d)\n",
    "& \\quad \\text{for } d <1 \\\\\n",
    "1 & \\quad \\text{for } d\\ge 1 \\end{cases}$ \n",
    "\n",
    "So for $Pr(\\mathbf{X}\\in\\mathcal{C}_d) = q$ follows for $q=1$ that $d\\ge 1$\n",
    "\n",
    "Assume now $q<1$. Then we have $Pr(\\mathbf{X}\\in\\mathcal{C}_d)=\\lambda^p(\\mathcal{C}_d)=\\int\\limits_{-\\frac{d}{2}}^{\\frac{d}{2}}\\underbrace{\\dots}_{\\text{p times}}\\int\\limits_{-\\frac{d}{2}}^{\\frac{d}{2}}1dx_1\\dots dx_p= d^p$\n",
    "\n",
    "Finally it follows for $q<1$ that $Pr(\\mathbf{X}\\in\\mathcal{C}_d) = q \\quad \\Leftrightarrow \\quad d=\\sqrt[p]{q}$\n"
   ]
  },
  {
   "cell_type": "markdown",
   "metadata": {},
   "source": [
    "#### *Part B*\n",
    "Let the components of the $p$-dimensional random variable $\\mathbf{X}^p$ be independent and have the standard normal distribution. It is known that $Pr(|\\mathbf{X}^1|\\leq2.576)=0.99$. For an arbitrary $p$, determine the probability $Pr(\\|\\mathbf{X}^p\\|_\\infty\\gt2.576)$ for any of the components of $\\mathbf{X}^p$ to lie outside of the interval $[-2.576, 2.576]$. Evaluate the value for $p = 2$, $p = 3$ and $p = 500$."
   ]
  },
  {
   "cell_type": "markdown",
   "metadata": {},
   "source": [
    "$$\n",
    "\\begin{align*}\n",
    "& \\because \\quad \\,\\; Pr(|\\mathbf{X}^1| \\leq 2.576) = 0.99 &\\\\\n",
    "& \\Rightarrow \\quad Pr(\\|\\mathbf{X}^p\\| \\leq 2.576) = (0.99)^p & (\\because\\text{ components of }\\mathbf{X}^p \\text{are independent})\\\\\n",
    "& \\Rightarrow \\quad Pr(\\|\\mathbf{X}^p\\|_\\infty\\gt2.576) = 1 - Pr(\\|\\mathbf{X}^p\\| \\leq 2.576) &\\\\\n",
    "& \\therefore \\quad \\,\\; Pr(\\|\\mathbf{X}^p\\|_\\infty\\gt2.576) = 1 - (0.99)^p &\n",
    "\\end{align*}\n",
    "$$\n",
    "Now, for $p = 2$, $p = 3$ and $p = 500$\n",
    "$$\n",
    "\\begin{align*}\n",
    "& Pr(\\|\\mathbf{X}^2\\|_\\infty\\gt2.576) = 1 - (0.99)^2 \\approx 0.0199 \\\\\n",
    "& Pr(\\|\\mathbf{X}^3\\|_\\infty\\gt2.576) = 1 - (0.99)^3 \\approx 0.0297 \\\\\n",
    "& Pr(\\|\\mathbf{X}^{500}\\|_\\infty\\gt2.576) = 1 - (0.99)^{500} \\approx 0.9934 \\\\\n",
    "\\end{align*}\n",
    "$$\n",
    "respectively."
   ]
  },
  {
   "cell_type": "markdown",
   "metadata": {},
   "source": [
    "### Task 2\n",
    "Provide the PYTHON code to the following tasks (the code needs to be commented properly):\n",
    "#### *Part A*\n",
    "Sample $100$ uniformly distributed random vectors from the box $[-1, 1]^{d}$ for $d = 2$."
   ]
  },
  {
   "cell_type": "code",
   "execution_count": 1,
   "metadata": {
    "collapsed": true
   },
   "outputs": [],
   "source": [
    "import numpy as np\n",
    "import matplotlib.pyplot as plt\n",
    "\n",
    "%matplotlib inline"
   ]
  },
  {
   "cell_type": "code",
   "execution_count": 2,
   "metadata": {},
   "outputs": [
    {
     "data": {
      "text/plain": [
       "Text(0.5,1,'Uniformly sampled vectors in $[-1, 1]^2$')"
      ]
     },
     "execution_count": 2,
     "metadata": {},
     "output_type": "execute_result"
    },
    {
     "data": {
      "image/png": "[encoded data removed]",
      "text/plain": [
       "<matplotlib.figure.Figure at 0x210e5fd5e80>"
      ]
     },
     "metadata": {},
     "output_type": "display_data"
    }
   ],
   "source": [
    "def sample(n, d):\n",
    "    \"\"\"Sample n random vectors from a d-dimensional cube [-1, 1]^d .\"\"\"\n",
    "    return 2*np.random.random((n, d)) - 1\n",
    "\n",
    "d = 2      # number of features or dimensions\n",
    "n = 100    # number of samples\n",
    "\n",
    "x = sample(n, d)\n",
    "\n",
    "# visualize sampled vectors\n",
    "plt.scatter(x[:, 0], x[:, 1])\n",
    "plt.xlabel('x-axis')\n",
    "plt.ylabel('y-asis')\n",
    "plt.title('Uniformly sampled vectors in $[-1, 1]^2$')"
   ]
  },
  {
   "cell_type": "markdown",
   "metadata": {},
   "source": [
    "#### *Part B*\n",
    "For each of the $100$ vectors determine the minimum angle to all other vectors. Then compute the average of these minimum angles. Note that for two vectors $\\mathbf{x}$, $\\mathbf{y}$ the cosine of the angle between the two vectors is defined as\n",
    "\n",
    "$$\\cos{((\\mathbf{x}, \\mathbf{y}))} = \\frac{\\langle \\mathbf{x}, \\mathbf{y} \\rangle}{\\|\\mathbf{x}\\|\\|\\mathbf{y}\\|}.$$\n"
   ]
  },
  {
   "cell_type": "code",
   "execution_count": 3,
   "metadata": {
    "collapsed": true
   },
   "outputs": [],
   "source": [
    "def angle(x, y):\n",
    "    \"\"\"\n",
    "    Return angule between vectors x and y in radians.\n",
    "    \n",
    "    Specifically, this function implements the following operation:\n",
    "    cos^-1(<x, y>/(|x|*|y|))\n",
    "    \"\"\"\n",
    "    \n",
    "    dot = np.dot(x, y)          # inner product of x and y\n",
    "    norm_x = np.sqrt(x.dot(x))  # norm of vector x\n",
    "    norm_y = np.sqrt(y.dot(y))  # norm of vector y\n",
    "    \n",
    "    # prevent division by zero\n",
    "    if norm_x == 0 or norm_y == 0:\n",
    "        return 0\n",
    "    \n",
    "    # calculate angle between x and y\n",
    "    angle = np.arccos(dot/(norm_x*norm_y))\n",
    "    \n",
    "    return angle"
   ]
  },
  {
   "cell_type": "code",
   "execution_count": 4,
   "metadata": {},
   "outputs": [
    {
     "data": {
      "text/plain": [
       "0.029152521789348827"
      ]
     },
     "execution_count": 4,
     "metadata": {},
     "output_type": "execute_result"
    }
   ],
   "source": [
    "def avgNNAngle(x):\n",
    "    \"\"\"\n",
    "    Return average angle between neighbouring vectors of data sample x.\n",
    "    \n",
    "    :param x: a n*d array representing n samples from d-dimensional space\n",
    "    :returns: [avg, std] with average avg and st-distribution std of nearest neighbor angular distances\n",
    "    \"\"\"\n",
    "    \n",
    "    # calculate sample size and dimension\n",
    "    n, d = x.shape\n",
    "    min_angles = np.zeros(n)\n",
    "    \n",
    "    # iterate over every vector a at index i in data sample x\n",
    "    for i, a in enumerate(x):\n",
    "        # calculate angular distance to nearest neighbor of vector a\n",
    "        min_angles[i] = min([angle(a, b) \\\n",
    "                           for j, b in enumerate(x) if j!=i])\n",
    "    \n",
    "    # return average and st-deviation of all nearest neighbor angular distances\n",
    "    return [np.average(min_angles), np.std(min_angles)]\n",
    "\n",
    "# call avgNNAngle function on our data sample x\n",
    "avg_nn_angle, std_nn_angle = avgNNAngle(x)\n",
    "\n",
    "# display average of nearest neighbor angular distances\n",
    "avg_nn_angle"
   ]
  },
  {
   "cell_type": "markdown",
   "metadata": {},
   "source": [
    "#### *Part C*\n",
    "Repeat the above for dimensions $d = 1, ..., 1000$ and use the results to plot the average minimum angle against the dimension."
   ]
  },
  {
   "cell_type": "code",
   "execution_count": 5,
   "metadata": {},
   "outputs": [
    {
     "data": {
      "image/png": "[encoded data removed]",
      "text/plain": [
       "<matplotlib.figure.Figure at 0x210e62f89e8>"
      ]
     },
     "metadata": {},
     "output_type": "display_data"
    }
   ],
   "source": [
    "def dSweep(d_sweep, n=100):\n",
    "    \"\"\"\n",
    "    Return average angle between n nearest neighbouring vectors sampled from [-1, 1]^d (for d in d_sweep).\n",
    "    \n",
    "    :param d_sweep: range of values to vary dimension d of sampling space [-1, 1]^d over\n",
    "    :param n: number of randomly sampled vectors (default 100)\n",
    "    :returns: a len(d_sweep)*2 array with averages in first colum and respective std in second colum\n",
    "    \"\"\"\n",
    "    \n",
    "    # map each element d in d_sweep to the output of avgNNAngle(n, d)\n",
    "    # stack all outputs into rows of a list and return\n",
    "    return list(map(lambda d: \\\n",
    "                    avgNNAngle(sample(n, d)), d_sweep))\n",
    "\n",
    "d_sweep = np.arange(1, 1001)    # sweep dimension from 1 to 1000\n",
    "avg_nn_angle = dSweep(d_sweep)  # get avg and std of nearest neighbor angular distances\n",
    "\n",
    "# plot avg and std of nearest neighbor angular distances\n",
    "plt.plot(d_sweep, avg_nn_angle)\n",
    "plt.xlabel('Dimension ( $d$ )')\n",
    "plt.ylabel('Average NN Angular Distance')\n",
    "plt.title('Nearest Neighbor Angular Distance')\n",
    "plt.legend(['$\\mu$', '$\\sigma$'])\n",
    "plt.grid()"
   ]
  },
  {
   "cell_type": "markdown",
   "metadata": {},
   "source": [
    "#### *Part D*\n",
    "Give an interpretation of the result. What conclusion can you draw for $2$ randomly sampled vectors in a $d$-dimensional space?"
   ]
  },
  {
   "cell_type": "markdown",
   "metadata": {},
   "source": [
    "The above result shows the following:\n",
    "* The angular distance between $2$ randomly sampled vectors increases with dimension $d$ of the sample space.\n",
    "* Convergence to $\\frac{\\pi}{2}$ implies that two randomly sampled vectors are orthogonal to each other in $d$-dimensional apsce for $d\\gg n$.\n",
    "* Convergence to $\\frac{\\pi}{2}$ also implies that most samples are concentrated in the 'corners' of the $d$-dimensional cube $[-1, 1]^d$, i.e. in high dimension, the corners occupy most of the space.\n",
    "* This convergence also means that $2$ randomly sampled vectors are increasingly equidistant (in termas of angular distance) from their respective nearest neighbors in high dimensional space.\n",
    "* Because the samples are increasingly equidistant from each other, this means that distance-based classifiers (e.g. k-Nearest Neighbors) cannot be used on such data in high-dimensional space."
   ]
  },
  {
   "cell_type": "markdown",
   "metadata": {},
   "source": [
    "#### *Part E*\n",
    "Does the result change if the sample size increases?"
   ]
  },
  {
   "cell_type": "code",
   "execution_count": 6,
   "metadata": {},
   "outputs": [
    {
     "data": {
      "text/plain": [
       "<matplotlib.colorbar.Colorbar at 0x210e675f400>"
      ]
     },
     "execution_count": 6,
     "metadata": {},
     "output_type": "execute_result"
    },
    {
     "data": {
      "image/png": "[encoded data removed]",
      "text/plain": [
       "<matplotlib.figure.Figure at 0x210e66f1470>"
      ]
     },
     "metadata": {},
     "output_type": "display_data"
    }
   ],
   "source": [
    "def nSweep(d_sweep, n_sweep):\n",
    "    \"\"\"\n",
    "    Return average angle between n nearest neighbouring vectors sampled from [-1, 1]^d (for d in d_sweep, for n in n_sweep).\n",
    "    \n",
    "    :param d_sweep: values to vary dimension d of sampling space [-1, 1]^d over\n",
    "    :param n_sweep: values to vary number of samples over\n",
    "    :returns: a len(d_sweep)*len(n_sweep) array with average nearest neighbor angular distances\n",
    "    \"\"\"\n",
    "    \n",
    "    # map each element n in n_sweep to first column (taking only avg values) of dSweep(d_sweep, n)\n",
    "    avg_nn_angle = lambda n: np.asarray(dSweep(d_sweep, n))[:, 0]\n",
    "    return list(map(avg_nn_angle, n_sweep))\n",
    "\n",
    "n_sweep = np.arange(100, 501, 100)        # sweep #samples from 100 to 500\n",
    "avg_nn_angle = nSweep(d_sweep, n_sweep)   # get avg of nearest neighbor angular distances\n",
    "\n",
    "# contour-plot avg of nearest neighbor angular distances\n",
    "plt.contourf(d_sweep, n_sweep, avg_nn_angle, 40, cmap='RdGy')\n",
    "plt.xlabel('Dimension ( $d$ )')\n",
    "plt.ylabel('Sample Size ( $n$ )')\n",
    "plt.title('Nearest Neighbor Angular Distance')\n",
    "plt.colorbar()"
   ]
  },
  {
   "cell_type": "markdown",
   "metadata": {},
   "source": [
    "Intuitively, as is evident from the contour plot above, increasing the sample size $n$ decreases the average angular distance between neighbouring vectors in a $d$-dimensional feature space. The rate of decrease, however, decreases with increasing $n$."
   ]
  },
  {
   "cell_type": "markdown",
   "metadata": {},
   "source": [
    "## Statistical Decision Making\n",
    "### Task 3\n",
    "<img src=\"figure1.jpg\" style=\"width: 220px;\">\n",
    "Answer the following questions. All answers must be justified.\n",
    "#### *Part A*\n",
    "The numbers in Figure 1 show the probability of the respective event to happen (e.g. the probability for the event $X=1$ and $Y=1$ is $0.02$). Is this table a probability table? If so, why?"
   ]
  },
  {
   "cell_type": "markdown",
   "metadata": {},
   "source": [
    "$$\n",
    "\\because\\,\\; \\sum_Y \\sum_X p_{X, Y}(x, y) = 0.4+0.14+0.05+0.02+0.26+0.13 = 1\n",
    "$$\n",
    "Also,\n",
    "$$\n",
    "\\because\\,\\; p_{X, Y}(x, y) \\geq 0 \\quad \\forall\\; (x, y) \\in \\{\\mathbf{X} \\times \\mathbf{Y}\\}\n",
    "$$\n",
    "Hence, Figure 1 is a probability table."
   ]
  },
  {
   "cell_type": "markdown",
   "metadata": {
    "collapsed": true
   },
   "source": [
    "#### *Part B*\n",
    "Based on Figure 1 give the conditional expectation $\\mathbb{E}_{Y \\mid X=2}[Y]$ and the probability of the event $X=1$ under the condition that $Y=3$."
   ]
  },
  {
   "cell_type": "markdown",
   "metadata": {},
   "source": [
    "First we evaluate the conditional probability $Pr(X=1 \\mid Y=3)$:\n",
    "$$\n",
    "\\begin{align*}\n",
    "& \\because \\,\\; Pr(X=1 \\mid Y=3) = \\frac{Pr(X=1 \\cap Y=3)}{Pr(Y=3)} \\\\\n",
    "& \\Rightarrow Pr(X=1 \\mid Y=3) = \\frac{Pr(X=1 \\cap Y=3)}{\\sum_X Pr(X, Y=3)} \\\\\n",
    "& \\Rightarrow Pr(X=1 \\mid Y=3) = \\frac{0.13}{0.13 + 0.05} \\\\\n",
    "& \\therefore \\,\\; Pr(X=1 \\mid Y=3) = \\frac{13}{18} \\approx 0.722\n",
    "\\end{align*}\n",
    "$$\n",
    "Next we calculate the conditional expectation $\\mathbb{E}_{Y \\mid X=2}[Y]$:\n",
    "$$\n",
    "\\begin{align*}\n",
    "& \\because \\,\\; \\mathbb{E}_{Y \\mid X=2}[Y] = \\sum_Y Y\\;Pr(Y \\mid X=2) \\\\\n",
    "& \\Rightarrow \\mathbb{E}_{Y \\mid X=2}[Y] = \\sum_Y Y\\;\\frac{Pr(Y \\cap X=2)}{Pr(X=2)} \\\\\n",
    "& \\Rightarrow \\mathbb{E}_{Y \\mid X=2}[Y] = \\frac{1}{Pr(X=2)}\\; \\sum_Y Y\\; Pr(Y \\cap X=2) \\\\\n",
    "& \\Rightarrow \\mathbb{E}_{Y \\mid X=2}[Y] = \\frac{1}{\\sum_Y Pr(X=2, Y)}\\sum_Y Y\\;Pr(Y \\cap X=2) \\\\\n",
    "& \\Rightarrow \\mathbb{E}_{Y \\mid X=2}[Y] = \\frac{1}{0.4+0.14+0.05}(1\\times 0.4 + 2\\times 0.14 + 3\\times 0.05) \\\\\n",
    "& \\therefore \\,\\; \\mathbb{E}_{Y \\mid X=2}[Y] = \\frac{83}{59} \\approx 1.4068\n",
    "\\end{align*}\n",
    "$$"
   ]
  },
  {
   "cell_type": "markdown",
   "metadata": {},
   "source": [
    "#### *Part C*\n",
    "Is the function $p(x, y)$ given by\n",
    "$$\n",
    "p(x, y) = \\begin{cases}\n",
    "1 & \\quad \\text{for } 0\\leq x\\leq 1\\text{, } 0\\leq y\\leq \\frac{1}{2} \\\\\n",
    "0 & \\quad \\text{otherwise} \\end{cases}\n",
    "$$\n",
    "a joint density function for two random variables?"
   ]
  },
  {
   "cell_type": "markdown",
   "metadata": {},
   "source": [
    "$$\n",
    "\\because \\int_y \\int_x p(x, y)\\; \\mathrm{d}x \\mathrm{d}y = \\int_0^{1/2} \\int_0^1 1\\; \\mathrm{d}x \\mathrm{d}y = \\int_0^{1/2} x\\mid_0^1\\; \\mathrm{d}y = \\int_0^{1/2} 1\\; \\mathrm{d}y = y\\mid_0^{1/2} = \\frac{1}{2} \\neq 1\n",
    "$$\n",
    "Hence, the function $p(x, y)$ is not a density function."
   ]
  },
  {
   "cell_type": "markdown",
   "metadata": {},
   "source": [
    "#### *Part D*\n",
    "For two random variables $X$ and $Y$ the joint density function is given by\n",
    "$$\n",
    "p(x, y) = \\begin{cases}\n",
    "2\\mathit{e}^{-(x+y)} & \\quad \\text{for } 0\\leq x\\leq y\\text{, } 0\\leq y \\\\\n",
    "0 & \\quad \\text{otherwise.} \\end{cases}\n",
    "$$\n",
    "What are the marginal density functions for $X$ and $Y$ respectively?"
   ]
  },
  {
   "cell_type": "markdown",
   "metadata": {},
   "source": [
    "First we calculate the marginal density function for $\\mathbf{X}$.\n",
    "$$\n",
    "\\begin{align*}\n",
    "& \\because \\,\\; p(x) = \\int_x^\\infty p(x, y)\\; \\mathrm{d}y\\\\\n",
    "& \\Rightarrow p(x) = \\lim_{u\\to\\infty} \\int_x^u p(x, y)\\; \\mathrm{d}y\\\\\n",
    "& \\Rightarrow p(x) = \\lim_{u\\to\\infty} \\int_x^u 2e^{-(x+y)}\\; \\mathrm{d}y\\\\\n",
    "& \\Rightarrow p(x) = 2e^{-x} \\lim_{u\\to\\infty} \\int_x^u e^{-y}\\; \\mathrm{d}y\\\\\n",
    "& \\Rightarrow p(x) = 2e^{-x} \\lim_{u\\to\\infty} \\big[-e^{-y}\\big]_{y=x}^{y=u}\\\\\n",
    "& \\Rightarrow p(x) = 2e^{-x} \\lim_{u\\to\\infty} \\big[-e^{-u}+e^{-x}\\big]\\\\\n",
    "& \\Rightarrow p(x) = 2e^{-x} \\big[0+e^{-x}\\big]\\\\\n",
    "& \\therefore \\,\\; p(x) = 2e^{-2x}\\\\\n",
    "\\end{align*}\n",
    "$$\n",
    "Similarly, for $\\mathbf{Y}$\n",
    "$$\n",
    "\\begin{align*}\n",
    "& \\because \\,\\; p(y) = \\int_0^y p(x, y)\\; \\mathrm{d}x\\\\\n",
    "& \\Rightarrow p(y) = \\int_0^y 2e^{-(x+y)}\\; \\mathrm{d}x\\\\\n",
    "& \\Rightarrow p(y) = 2e^{-y} \\int_0^y e^{-x}\\; \\mathrm{d}x\\\\\n",
    "& \\Rightarrow p(y) = 2e^{-y} \\big[ -e^{-x} \\big]_{x=0}^{x=y}\\\\\n",
    "& \\Rightarrow p(y) = 2e^{-y} \\big[ -e^{-y} + e^0 \\big]\\\\\n",
    "& \\therefore \\,\\; p(y) = 2e^{-y} \\big( 1 - e^{-y} \\big)\\\\\n",
    "\\end{align*}\n",
    "$$"
   ]
  },
  {
   "cell_type": "markdown",
   "metadata": {},
   "source": [
    "#### *Part E*\n",
    "Let the joint density function of two random variables $X$ and $Y$ be given by\n",
    "$$\n",
    "p(x, y) = \\begin{cases}\n",
    "\\frac{1}{15}(2x+4y) & \\quad \\text{for } 0\\leq x\\leq 3\\text{, } 0\\leq y\\leq 1 \\\\\n",
    "0 & \\quad \\text{otherwise.} \\end{cases}\n",
    "$$\n",
    "Determine the probability for $X\\leq 2$ under the condition that $Y = \\frac{1}{2}$."
   ]
  },
  {
   "cell_type": "markdown",
   "metadata": {},
   "source": [
    "$$\n",
    "\\begin{align*}\n",
    "& \\because \\,\\; p(y) = \\int_x p(x, y)\\; \\mathrm{d}x\\\\\n",
    "& \\Rightarrow p(y) = \\int_0^3 p(x, y)\\; \\mathrm{d}x\\\\\n",
    "& \\Rightarrow p(y) = \\int_0^3 \\frac{1}{15}(2x+4y)\\; \\mathrm{d}x\\\\\n",
    "& \\Rightarrow p(y) = \\frac{1}{15}\\; (x^2+4yx)\\mid_{x=0}^3\\\\\n",
    "& \\therefore \\,\\; p(y) = \\frac{1}{5}\\; (4y+3)\\\\\n",
    "\\end{align*}\n",
    "$$\n",
    "Now,\n",
    "$$\n",
    "\\begin{align*}\n",
    "& \\because \\,\\; Pr(X\\leq 2\\mid Y=\\frac{1}{2}) = \\int_0^2 \\frac{p(x, y)}{p(y)}\\mid_{y=\\frac{1}{2}}\\; \\mathrm{d}x\\\\\n",
    "& \\Rightarrow Pr(X\\leq 2\\mid Y=\\frac{1}{2}) = \\int_0^2 \\frac{2x+4y}{12y+9}\\mid_{y=\\frac{1}{2}}\\; \\mathrm{d}x\\\\\n",
    "& \\Rightarrow Pr(X\\leq 2\\mid Y=\\frac{1}{2}) = \\int_0^2 \\frac{2x+2}{15}\\; \\mathrm{d}x\\\\\n",
    "& \\Rightarrow Pr(X\\leq 2\\mid Y=\\frac{1}{2}) = \\frac{1}{15}\\; (x^2+2x)\\mid_0^2\\\\\n",
    "& \\therefore \\,\\; Pr(X\\leq 2\\mid Y=\\frac{1}{2}) = \\frac{8}{15}\n",
    "\\end{align*}\n",
    "$$"
   ]
  },
  {
   "cell_type": "markdown",
   "metadata": {},
   "source": [
    "### Task 4\n",
    "Show that the covariance matrix $\\mathbf{C}$ of any random variable $\\mathbf{X}\\in\\mathbb{R}^p$ is symmetric positive semidefinite, i.e. $\\mathbf{C}=\\mathbf{C}^T$ and $\\mathbf{x}^T\\mathbf{Cx}\\geq 0$ for any covariance matrix $\\mathbf{C}\\in\\mathbb{R}^{p\\times p}$ and any $\\mathbf{x}\\in\\mathbb{R}^p$."
   ]
  },
  {
   "cell_type": "markdown",
   "metadata": {},
   "source": [
    "First we prove that $\\mathbf{C}=\\mathbf{C}^T$:\n",
    "$$\n",
    "\\begin{align*}\n",
    "& \\because \\quad \\,\\; \\mathbf{C} = \\mathbb{E}((\\mathbf{X}-\\mathbf{\\mu})(\\mathbf{X}-\\mathbf{\\mu})^T) \\\\\n",
    "& \\Rightarrow \\quad \\mathbf{C} = \\mathbb{E}((\\mathbf{X}-\\mathbf{\\mu})(\\mathbf{X}^T-\\mathbf{\\mu}^T)) \\\\\n",
    "& \\Rightarrow \\quad \\mathbf{C} = \\mathbb{E}(\\mathbf{XX}^T-\\mathbf{X\\mu}^T-\\mathbf{\\mu X}^T+\\mathbf{\\mu\\mu}^T) \\\\\n",
    "& \\Rightarrow \\quad \\mathbf{C} = \\mathbb{E}(\\mathbf{XX}^T)-\\mathbb{E}(\\mathbf{X\\mu}^T)-\\mathbb{E}(\\mathbf{\\mu X}^T)+\\mathbb{E}(\\mathbf{\\mu\\mu}^T) \\\\\n",
    "& \\Rightarrow \\quad \\mathbf{C} = \\mathbb{E}(\\mathbf{XX}^T)-\\mathbb{E}(\\mathbf{X})\\mathbf{\\mu}^T-\\mathbf{\\mu}\\mathbb{E}(\\mathbf{X}^T)+\\mathbf{\\mu\\mu}^T \\\\\n",
    "& \\Rightarrow \\quad \\mathbf{C} = \\mathbb{E}(\\mathbf{XX}^T)-\\mathbf{\\mu\\mu}^T-\\mathbf{\\mu\\mu}^T+\\mathbf{\\mu\\mu}^T \\\\\n",
    "& \\Rightarrow \\quad \\mathbf{C} = \\mathbb{E}(\\mathbf{XX}^T)-\\mathbf{\\mu\\mu}^T \\\\\n",
    "& \\Rightarrow \\quad \\mathbf{C}^T = \\mathbb{E}(\\mathbf{XX}^T)^T-(\\mathbf{\\mu\\mu}^T)^T \\\\\n",
    "& \\Rightarrow \\quad \\mathbf{C}^T = \\mathbb{E}((\\mathbf{XX}^T)^T)-(\\mathbf{\\mu\\mu}^T)^T \\\\\n",
    "& \\Rightarrow \\quad \\mathbf{C}^T = \\mathbb{E}((\\mathbf{X}^T)^T(\\mathbf{X})^T)-(\\mathbf{\\mu}^T)^T(\\mathbf{\\mu})^T \\\\\n",
    "& \\Rightarrow \\quad \\mathbf{C}^T = \\mathbb{E}(\\mathbf{X}\\mathbf{X}^T)-\\mathbf{\\mu}\\mathbf{\\mu}^T \\\\\n",
    "& \\therefore \\quad \\,\\; \\mathbf{C}^T = \\mathbf{C} \\\\\n",
    "\\end{align*}\n",
    "$$\n",
    "Next, we prove that $\\mathbf{x}^T\\mathbf{Cx}\\geq 0$:\n",
    "$$\n",
    "\\begin{align*}\n",
    "& \\because \\quad \\,\\; \\mathbf{C} = \\mathbb{E}((\\mathbf{X}-\\mathbf{\\mu})(\\mathbf{X}-\\mathbf{\\mu})^T) \\\\\n",
    "& \\Rightarrow \\quad \\mathbf{x}^T\\mathbf{Cx} = \\mathbf{x}^T\\mathbb{E}((\\mathbf{X}-\\mathbf{\\mu})(\\mathbf{X}-\\mathbf{\\mu})^T)\\mathbf{x} \\\\\n",
    "& \\Rightarrow \\quad \\mathbf{x}^T\\mathbf{Cx} = \\mathbb{E}(\\mathbf{x}^T(\\mathbf{X}-\\mathbf{\\mu})(\\mathbf{X}-\\mathbf{\\mu})^T\\mathbf{x}) \\\\\n",
    "& \\Rightarrow \\quad \\mathbf{x}^T\\mathbf{Cx} = \\mathbb{E}((\\mathbf{x}^T(\\mathbf{X}-\\mathbf{\\mu}))(\\mathbf{x}^T(\\mathbf{X}-\\mathbf{\\mu}))^T) \\\\\n",
    "& \\Rightarrow \\quad \\mathbf{x}^T\\mathbf{Cx} = \\mathbb{E}(YY^T) \\\\\n",
    "& \\Rightarrow \\quad \\mathbf{x}^T\\mathbf{Cx} = \\mathbb{E}(Y^2) \\\\\n",
    "& \\therefore \\quad \\mathbf{x}^T\\mathbf{Cx} \\geq 0\n",
    "\\end{align*}\n",
    "$$"
   ]
  }
 ],
 "metadata": {
  "kernelspec": {
   "display_name": "Python 3",
   "language": "python",
   "name": "python3"
  },
  "language_info": {
   "codemirror_mode": {
    "name": "ipython",
    "version": 3
   },
   "file_extension": ".py",
   "mimetype": "text/x-python",
   "name": "python",
   "nbconvert_exporter": "python",
   "pygments_lexer": "ipython3",
   "version": "3.6.3"
  }
 },
 "nbformat": 4,
 "nbformat_minor": 2
}
